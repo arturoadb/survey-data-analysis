{
 "cells": [
  {
   "cell_type": "markdown",
   "id": "64e1b98a-c97a-46e5-945b-ab1db97ad4f5",
   "metadata": {},
   "source": [
    "# Exploratory Data Analysis of Developer Survey Results\n",
    "\n",
    "**Author:** Arturo Alejandro Díaz Barbosa  \n",
    "**Date:** June, 2025  \n",
    "\n",
    "**Data Source:**  \n",
    "Stack Overflow Developer Survey 2024  \n",
    "(https://survey.stackoverflow.co/2024/)\n",
    "\n",
    "---\n",
    "\n",
    "## Dataset Description\n",
    "\n",
    "Stack Overflow, the go-to platform for developers, conducted a global survey to capture insights into the developer community. This survey includes various questions related to professional experience, coding activities, tools, technologies, and preferences. The dataset offers important information about the current state of software development worldwide and covers topics such as demographics, salary, education, career paths, and technology usage.\n",
    "\n",
    "---\n",
    "\n",
    "## Objective\n",
    "\n",
    "This project aims to explore the responses from the 2024 Stack Overflow Developer Survey to answer key questions such as:  \n",
    "1. How does average salary vary with years of experience?  \n",
    "2. Which programming languages are most used by region?  \n",
    "3. Is there a correlation between education level and annual salary?\n",
    "\n",
    "---\n",
    "\n",
    "## Key Findings\n",
    "\n",
    "- **Salary vs. Experience:** Median salary increases by 156% after 5 years of experience.  \n",
    "- **Top Languages:** JavaScript commands 11.6% usage among developers\n",
    "- **Education Level and Annual Salary:** Formal education boosts earning potential by up to 60%.\n",
    "\n",
    "---"
   ]
  },
  {
   "cell_type": "markdown",
   "id": "c171af21",
   "metadata": {},
   "source": [
    "##### *Import required libraries*"
   ]
  },
  {
   "cell_type": "code",
   "execution_count": null,
   "id": "ea64850a",
   "metadata": {},
   "outputs": [],
   "source": [
    "import pandas as pd \n",
    "import numpy as np \n",
    "import matplotlib.pyplot as plt \n",
    "import seaborn as sns \n",
    "import plotly.express as px \n",
    "from sklearn.preprocessing import MinMaxScaler\n",
    "from sqlalchemy import create_engine"
   ]
  },
  {
   "cell_type": "code",
   "execution_count": null,
   "id": "286f5221",
   "metadata": {},
   "outputs": [],
   "source": [
    "# engine = create_engine('sqlite:///Survey')\n",
    "# df = pd.read_csv('survey_data.csv')  # Read CSV into DataFrame\n",
    "# df.to_sql('survey', engine, if_exists='replace', index=False)\n",
    "# pd.read_sql_query(\"SELECT * from survey limit 5\", engine)"
   ]
  },
  {
   "cell_type": "markdown",
   "id": "05ef3995-5221-43d8-b3ae-46e51e6d964c",
   "metadata": {},
   "source": [
    "### Initial Data Loading and Cleaning\n",
    "\n",
    "- Load raw survey data from CSV and preview its structure and size.\n",
    "- Extract a subset of relevant columns for analysis.\n",
    "- Explore the data with summary statistics and data types.\n",
    "- Check for missing values and duplicated rows.\n",
    "- Remove duplicates to ensure data quality before further analysis.\n"
   ]
  },
  {
   "cell_type": "markdown",
   "id": "d59bf065",
   "metadata": {},
   "source": [
    "#### *Load CSV data into DataFrame*"
   ]
  },
  {
   "cell_type": "code",
   "execution_count": null,
   "id": "09270f78",
   "metadata": {
    "scrolled": true
   },
   "outputs": [],
   "source": [
    "df_raw = pd.read_csv('survey_data.csv', low_memory=False) # Read CSV into DataFrame\n",
    "df_raw.head() # Show first 5 rows of DataFrame"
   ]
  },
  {
   "cell_type": "markdown",
   "id": "6c28b532",
   "metadata": {},
   "source": [
    "#### *Returns the number of rows and columns in the DataFrame.*"
   ]
  },
  {
   "cell_type": "code",
   "execution_count": null,
   "id": "dc33463b",
   "metadata": {},
   "outputs": [],
   "source": [
    "df_raw.shape "
   ]
  },
  {
   "cell_type": "markdown",
   "id": "4c689a9d",
   "metadata": {},
   "source": [
    "#### *Returns a list of column names in the DataFrame.*"
   ]
  },
  {
   "cell_type": "code",
   "execution_count": null,
   "id": "dfa9a0e3",
   "metadata": {
    "scrolled": true
   },
   "outputs": [],
   "source": [
    "df_raw.columns.to_list()"
   ]
  },
  {
   "cell_type": "markdown",
   "id": "c5a03817",
   "metadata": {},
   "source": [
    "#### *Creates a new DataFrame `df` by selecting specific columns*"
   ]
  },
  {
   "cell_type": "code",
   "execution_count": null,
   "id": "9128c0f4",
   "metadata": {},
   "outputs": [],
   "source": [
    "df = df_raw[['Age', 'Employment', 'WorkExp', 'RemoteWork', 'CodingActivities', 'EdLevel',\n",
    "             'YearsCode', 'DevType', 'Country', 'ConvertedCompYearly', 'LanguageHaveWorkedWith', 'LanguageWantToWorkWith',\n",
    "            'LanguageAdmired', 'DatabaseHaveWorkedWith', 'DatabaseWantToWorkWith', 'PlatformHaveWorkedWith', 'PlatformWantToWorkWith',\n",
    "            'WebframeHaveWorkedWith', 'WebframeWantToWorkWith', 'OpSysProfessional use', 'Industry', 'JobSat']]"
   ]
  },
  {
   "cell_type": "markdown",
   "id": "eca8d97b",
   "metadata": {},
   "source": [
    "#### *Display first rows of the new DataFrame*"
   ]
  },
  {
   "cell_type": "code",
   "execution_count": null,
   "id": "5e4b9450",
   "metadata": {},
   "outputs": [],
   "source": [
    "df.head()  # Show first 5 rows of DataFrame"
   ]
  },
  {
   "cell_type": "markdown",
   "id": "ac85ca14",
   "metadata": {},
   "source": [
    "#### *Generates descriptive statistics for all columns*"
   ]
  },
  {
   "cell_type": "code",
   "execution_count": null,
   "id": "add1e578",
   "metadata": {
    "scrolled": true
   },
   "outputs": [],
   "source": [
    "df.describe(include='all')"
   ]
  },
  {
   "cell_type": "markdown",
   "id": "21b55203",
   "metadata": {},
   "source": [
    "#### *Returns the data type of each column in the DataFrame.*"
   ]
  },
  {
   "cell_type": "code",
   "execution_count": null,
   "id": "02866cff",
   "metadata": {},
   "outputs": [],
   "source": [
    "df.dtypes"
   ]
  },
  {
   "cell_type": "markdown",
   "id": "58d1e965",
   "metadata": {},
   "source": [
    "#### *Check for missing values in DataFrame*"
   ]
  },
  {
   "cell_type": "code",
   "execution_count": null,
   "id": "3619dcff",
   "metadata": {},
   "outputs": [],
   "source": [
    "df.isnull().sum()"
   ]
  },
  {
   "cell_type": "markdown",
   "id": "07d1170f",
   "metadata": {},
   "source": [
    "#### *Counts and prints the number of duplicate rows in the DataFrame, then removes them.*"
   ]
  },
  {
   "cell_type": "code",
   "execution_count": null,
   "id": "794404ee",
   "metadata": {},
   "outputs": [],
   "source": [
    "print(df.duplicated().sum())  # Sum the duplicate rows in the DataFrame\n",
    "df = df.drop_duplicates() #Remove the duplicate rows."
   ]
  },
  {
   "cell_type": "markdown",
   "id": "f8cfb46a-cf72-4901-8f05-be1236c4a99f",
   "metadata": {},
   "source": [
    "### Processing Database Experience by Age\n",
    "\n",
    "- Select `Age` and `DatabaseHaveWorkedWith` columns.\n",
    "- Split database strings into lists.\n",
    "- Explode lists into individual rows.\n",
    "- Group by age and database, counting entries."
   ]
  },
  {
   "cell_type": "code",
   "execution_count": null,
   "id": "bbf9a368",
   "metadata": {},
   "outputs": [],
   "source": [
    "dfExp_Age = df[['Age', 'DatabaseHaveWorkedWith']] # Select relevant columns: Age and the databases people have worked with\n",
    "dfExp_Age.loc[:,'DatabaseHaveWorkedWith'] = dfExp_Age['DatabaseHaveWorkedWith'].str.split(';') # Split the 'DatabaseHaveWorkedWith' into a list (separated by semicolons)\n",
    "dfExp_Age = dfExp_Age.explode('DatabaseHaveWorkedWith') # Expand the list of databases into separate rows\n",
    "Exp_Age_grouped = dfExp_Age.groupby(['Age', 'DatabaseHaveWorkedWith']).size().reset_index(name='count') # Group by Age and Database, then count the number of occurrences"
   ]
  },
  {
   "cell_type": "markdown",
   "id": "3d54a69f-3567-4ef1-a984-50ecd9b95299",
   "metadata": {},
   "source": [
    "#### Pivot Table: Age vs. Database Experience\n",
    "\n",
    "We create a pivot table to analyze the relationship between respondents ages and the databases they have worked with.\n",
    "\n",
    "The table uses:\n",
    "- **Rows** for `Age`\n",
    "- **Columns** for `DatabaseHaveWorkedWith`\n",
    "- **Values** as the count of respondents\n",
    "\n",
    "Missing values (`NaN`) are replaced with `0`, as they represent age-database combinations with no responses. This ensures smooth visualization and avoids errors due to null values in the plot.\n"
   ]
  },
  {
   "cell_type": "code",
   "execution_count": null,
   "id": "d2dc1ffa",
   "metadata": {},
   "outputs": [],
   "source": [
    "Exp_Age_pivot_table = Exp_Age_grouped.pivot(index='Age', columns = 'DatabaseHaveWorkedWith', values='count').fillna(0) #Create a pivot table of Age and DatabaseHaveWorkedWith\n",
    "filt = Exp_Age_pivot_table.sum().sort_values(ascending=False).head().index #Gets the top 5 columns with the highest total values from the pivot table.\n",
    "Exp_Age_pivot_table = Exp_Age_pivot_table[filt]#Filters the pivot table to keep only the top 5 columns.\n",
    "Exp_Age_pivot_table #Show the results"
   ]
  },
  {
   "cell_type": "markdown",
   "id": "34cd4b56-637c-4771-b12d-7a73ca1055c2",
   "metadata": {},
   "source": [
    "#### Bar Chart: Top 5 Databases Used by Age\n",
    "\n",
    "We now plot a bar chart showing the distribution of the top 5 most commonly used databases across different age groups. The chart helps visualize usage trends by age range.\n"
   ]
  },
  {
   "cell_type": "code",
   "execution_count": null,
   "id": "26b8d845",
   "metadata": {},
   "outputs": [],
   "source": [
    "Exp_Age_pivot_table.plot(kind='bar', stacked=False, figsize=(10, 6), colormap='tab20c', edgecolor = 'black')#Plots a bar chart with custom style.\n",
    "\n",
    "plt.title('Databases used by age ranges')  # Set plot title\n",
    "plt.ylabel('Proportion')  # Set y-axis label\n",
    "plt.xlabel('Age') # Set x-axis label\n",
    "plt.legend(title='Database') #Adds a legend with the title 'Database'.\n",
    "plt.tight_layout()  # Adjust layout spacing\n",
    "plt.xticks(rotation=70)  # Rotate x-axis labels\n",
    "plt.figtext(0.5, -0.05,'Figure 1. Databases used by age ranges', # Adds centered caption below the plot\n",
    "            wrap=True, horizontalalignment='center', fontsize=10)\n",
    "plt.show()  # Display the plot"
   ]
  },
  {
   "cell_type": "markdown",
   "id": "f665a96b-29ac-4363-8bd8-494395511788",
   "metadata": {},
   "source": [
    "#### Conclusions: Database Usage by Age Group\n",
    "\n",
    "- **PostgreSQL** is the most widely used database among all age groups, especially prominent in the **25–34** age range.\n",
    "- **MySQL** follows PostgreSQL closely, with its usage peaking in the **25–34** age group and gradually declining in older age brackets.\n",
    "- **SQLite** and **Microsoft SQL Server** show moderate usage across all age ranges, with a noticeable drop-off after the **35–44** age group.\n",
    "- **MongoDB** usage is relatively lower overall, but it's more evenly distributed across younger and middle age groups.\n",
    "- There is a clear decline in the number of respondents as age increases, especially after the **45–54** range, suggesting lower representation or participation from older developers.\n",
    "- Younger respondents (**18–24** and **under 18**) already show significant usage of PostgreSQL and MySQL, indicating these technologies are common even among early-career or student developers.\n"
   ]
  },
  {
   "cell_type": "markdown",
   "id": "3bf058bb",
   "metadata": {},
   "source": [
    "### Choropleth Map: Number of Developers by Country\n",
    "\n",
    "We calculate the number of survey respondents (developers) from each country and visualize the results using a choropleth map.\n",
    "\n",
    "- The `Country` column is used to identify geographic locations.\n",
    "- The `Developer_Count` column represents the number of developers per country.\n",
    "- A `plotly.express` choropleth is used for an interactive world map visualization, with a continuous Viridis color scale to represent density.\n",
    "\n",
    "This map helps identify where most developers in the dataset are located geographically.\n"
   ]
  },
  {
   "cell_type": "code",
   "execution_count": null,
   "id": "e6d22637",
   "metadata": {
    "scrolled": true
   },
   "outputs": [],
   "source": [
    "country_counts = df['Country'].value_counts().reset_index()  # Get counts of unique values\n",
    "country_counts.columns = ['Country', 'Developer_Count']#Renames columns to 'Country' and 'Developer_Count'.\n",
    "\n",
    "fig = px.choropleth( #Creates a choropleth map of developers by country.\n",
    "    country_counts,\n",
    "    locations='Country',\n",
    "    locationmode='country names',\n",
    "    color='Developer_Count',\n",
    "    color_continuous_scale='Viridis',\n",
    "    title='Number of developers by country'\n",
    ")\n",
    "fig.add_annotation( # Adds centered caption below the plot\n",
    "    text=\"Figure 2. Number of developers by country based on survey data.\",\n",
    "    xref=\"paper\", yref=\"paper\",\n",
    "    x=0.5, y=-0.15,\n",
    "    showarrow=False,\n",
    "    font=dict(size=12),\n",
    "    align=\"center\"\n",
    ")\n",
    "fig.show()"
   ]
  },
  {
   "cell_type": "markdown",
   "id": "3fc5aefa-f10c-415a-9675-b35ed5a09e45",
   "metadata": {},
   "source": [
    "#### Conclusions: Number of Developers by Country\n",
    "\n",
    "- The **United States** has the highest number of developers, clearly leading with over **10,000** respondents.\n",
    "- Other countries with a significant developer presence include **India**, **Germany**, **United Kingdom**, and **Canada**.\n",
    "- European countries show moderate developer activity, especially in **Western and Central Europe**.\n",
    "- **South America**, **Africa**, and most parts of **Asia** have lower representation, with smaller clusters in countries like **Brazil**, **Nigeria**, and **Indonesia**.\n",
    "- The heatmap highlights a digital divide, with **North America**, parts of **Europe**, and **India** dominating in developer count.\n",
    "- These figures may reflect both population size and internet access, as well as participation in the survey source (likely Stack Overflow or similar).\n",
    "\n"
   ]
  },
  {
   "cell_type": "markdown",
   "id": "27d62be7",
   "metadata": {},
   "source": [
    "### Analyzes annual compensation in the top 10 countries with the most developers\n",
    "\n",
    "We focus on the top 10 countries with the highest number of developers.\n",
    "\n",
    "- Filter the dataset to include only these countries.\n",
    "- Calculate the interquartile range (IQR) of the yearly salary (`ConvertedCompYearly`) to detect outliers.\n",
    "- Remove outliers by keeping salaries within 1.5 * IQR above and below the quartiles.\n",
    "- Replace long country names with shorter versions for better visualization and readability (e.g., \"United Kingdom of Great Britain and Northern Ireland\" to \"UK\").\n",
    "\n",
    "This cleaning step ensures that extreme salary values do not skew the analysis.\n"
   ]
  },
  {
   "cell_type": "code",
   "execution_count": null,
   "id": "745e7908",
   "metadata": {},
   "outputs": [],
   "source": [
    "topCountry = df['Country'].value_counts().head(10).index  # Show first 10 rows of DataFrame\n",
    "topCountry\n",
    "filtroCtryCCY = df[df['Country'].isin(topCountry)]  # Access DataFrame column\n",
    "\n",
    "\n",
    "def remove_outliers(df, column):\n",
    "    Q1 = df[column].quantile(0.25)  # Calculate specified quantile\n",
    "    Q3 = df[column].quantile(0.75)  # Calculate specified quantile\n",
    "    IQR = Q3 - Q1           #Calculates the interquartile range (IQR).\n",
    "    lower = Q1 - 1.5 * IQR  #Calculates the lower bound for outliers.\n",
    "    upper = Q3 + 1.5 * IQR  #Calculates the upper bound for outliers.\n",
    "\n",
    "    df = df[(df[column] >= lower)\n",
    "    & (df[column] <= upper)]#Filters data within the salary bounds to remove outliers.\n",
    "    \n",
    "    return df\n",
    "\n",
    "filtroCtryCCY = remove_outliers(filtroCtryCCY, 'ConvertedCompYearly')  #Filters data within the salary bounds to remove outliers.\n",
    "\n",
    "\n",
    "namereplace = {\"United Kingdom of Great Britain and Northern Ireland\":\"UK\", \"United States of America\":\"USA\"}\n",
    "filtroCtryCCY.loc[:, 'Country'] = filtroCtryCCY['Country'].replace(namereplace)  # Replace DataFrame names"
   ]
  },
  {
   "cell_type": "markdown",
   "id": "a463f4bb-e452-4297-a8be-e59612a7cf4a",
   "metadata": {},
   "source": [
    "#### Boxplot of Annual Compensation in the Top 10 Countries\n",
    "\n",
    "This boxplot visualizes the distribution of yearly compensation (`ConvertedCompYearly`) for developers in the top 10 countries with the most respondents.\n",
    "\n",
    "- The x-axis shows the countries.\n",
    "- The y-axis shows the annual salary, filtered to remove outliers.\n",
    "- The boxplot highlights the median, quartiles, and potential remaining spread of salaries by country.\n",
    "- X-axis labels are rotated for better readability.\n",
    "\n",
    "This visualization helps compare salary distributions across countries while minimizing the effect of extreme values.\n"
   ]
  },
  {
   "cell_type": "code",
   "execution_count": null,
   "id": "467f6b33-009f-47f9-adb9-95ba8d784c7f",
   "metadata": {},
   "outputs": [],
   "source": [
    "plt.figure(figsize=(12,7))  # Initialize new matplotlib figure\n",
    "\n",
    "plt.title('Annual compensation in the top 10 countries with the most developers')  # Set plot title\n",
    "sns.boxplot(x='Country', y='ConvertedCompYearly', data=filtroCtryCCY)  # Draw boxplot\n",
    "sns.set(style='darkgrid')\n",
    "plt.ylabel('Converted Compensation (Yearly)')  # Set y-axis label\n",
    "plt.xticks(rotation=90)  # Rotate x-axis labels\n",
    "plt.tight_layout()  # Adjust layout spacing\n",
    "plt.figtext(0.5, -0.05,'Figure 3. Annual compensation in the top 10 countries with the most developers', # Adds centered caption below the plot\n",
    "            wrap=True, horizontalalignment='center', fontsize=10)\n",
    "plt.show()  # Display the plot"
   ]
  },
  {
   "cell_type": "markdown",
   "id": "17ec80ce-27cd-4835-a6c9-6f1ca8c7a89c",
   "metadata": {
    "jp-MarkdownHeadingCollapsed": true
   },
   "source": [
    "#### Conclusions: Annual Compensation in the Top 10 Countries with the Most Developers\n",
    "\n",
    "- The **United States** shows the **highest median compensation**, with a wide spread and many high-end outliers exceeding \\$250,000 USD.\n",
    "- **Canada** and the **UK** also show relatively high median salaries compared to other countries.\n",
    "- **India** and **Brazil** have the **lowest median compensations**, though they still have many high-end outliers, suggesting income inequality or strong variation in experience/roles.\n",
    "- **France**, **Germany**, and the **Netherlands** have more concentrated salary distributions, with fewer extreme outliers compared to the US.\n",
    "- **Ukraine** and **Poland** show modest median compensation, but a wider spread of data suggests significant variation within those countries.\n",
    "- Overall, compensation tends to correlate with the economic strength and cost of living of the country, but outliers highlight opportunities for high-earning individuals across all regions.\n",
    "\n"
   ]
  },
  {
   "cell_type": "markdown",
   "id": "aa905900",
   "metadata": {},
   "source": [
    "### Bar Plot: Annual Compensation by Work Modality\n",
    "\n",
    "We analyze how yearly compensation (`ConvertedCompYearly`) varies depending on whether developers work remotely or not.\n",
    "\n",
    "- The dataset is filtered to remove outliers in compensation.\n",
    "- A bar plot shows the average salary for each category of work modality (`RemoteWork`).\n",
    "- Bars are annotated with their exact average salary values for clarity.\n",
    "- The y-axis limit is set slightly above the highest average to improve visualization.\n",
    "\n",
    "This plot helps understand if and how remote work status affects developer compensation.\n"
   ]
  },
  {
   "cell_type": "code",
   "execution_count": null,
   "id": "6bf33452",
   "metadata": {
    "scrolled": true
   },
   "outputs": [],
   "source": [
    "dfRemConv = remove_outliers(df, 'ConvertedCompYearly')  #Filters data within the salary bounds to remove outliers.\n",
    "\n",
    "plt.figure(figsize=(10,5))  # Initialize new matplotlib figure\n",
    "plt.title('Annual compensation by work modality')  # Set plot title\n",
    "ax = sns.barplot(x='RemoteWork', y='ConvertedCompYearly', data=dfRemConv, color='brown', edgecolor='black')#Creates a brown barplot of salary by remote work status.\n",
    "plt.xlabel('Work Modality') #Set x-axis label\n",
    "plt.ylabel('Converted Compensation (Yearly)')  # Set y-axis label\n",
    "max_y = dfRemConv.groupby('RemoteWork')['ConvertedCompYearly'].mean().max() #Finds the highest average salary by remote work group.\n",
    "ax.set_ylim(0, max_y * 1.2) #Sets y-axis limit slightly above the max average salary.\n",
    "\n",
    "for bar in ax.patches:\n",
    "    ax.text(bar.get_x() + bar.get_width()/2, bar.get_height() + 4500, f'{bar.get_height():.0f}', ha='center', va='bottom') #Adds value labels above each bar in the plot.\n",
    "\n",
    "plt.figtext(0.5, -0.05,'Figure 4. Annual compensation by work modality', # Adds centered caption below the plot\n",
    "            wrap=True, horizontalalignment='center', fontsize=10)\n",
    "plt.tight_layout()  # Adjust layout spacing\n",
    "plt.show()  # Display the plot"
   ]
  },
  {
   "cell_type": "markdown",
   "id": "2491f178-1da2-44aa-b88d-02eee5a0cf6a",
   "metadata": {},
   "source": [
    "#### Conclusions: Annual Compensation by Work Modality\n",
    "\n",
    "- **Remote workers** receive the highest average annual compensation at **\\$78,722**, highlighting the financial advantage of fully remote positions.\n",
    "- **Hybrid workers** (those with a mix of remote and in-person work) earn slightly less, with an average salary of **\\$71,864**, indicating some flexibility may still yield competitive pay.\n",
    "- **In-person workers** report the lowest average annual compensation at **\\$52,638**, showing a significant gap compared to remote roles — roughly **33% less** than remote counterparts.\n",
    "- The data suggests a clear trend: **greater flexibility in work location is associated with higher compensation**.\n",
    "- These results may reflect broader market demand, talent distribution, or cost-of-living adjustments that favor remote work arrangements.\n"
   ]
  },
  {
   "cell_type": "markdown",
   "id": "f7303f88",
   "metadata": {},
   "source": [
    "### Analysis and Visualization of Programming Languages Used Across Countries\n",
    "\n",
    "- We select respondents programming languages (`LanguageHaveWorkedWith`) and their countries.\n",
    "- Missing values are dropped to ensure clean data processing and accurate visualization:\n",
    "  - Null values in either column would interfere with text splitting, row expansion, grouping, and plotting.\n",
    "  - Dropping them prevents errors and avoids introducing meaningless entries (e.g., blank countries or languages).\n",
    "- Languages are split into individual entries for each developer.\n",
    "- We focus on the top 10 most used programming languages and the top 20 countries with the most responses.\n",
    "- Data is grouped by country and language to count occurrences.\n",
    "- We calculate and print:\n",
    "  - The most popular language and its percentage of total responses.\n",
    "  - The combined percentage of the top 10 languages.\n",
    "- A bubble plot visualizes the frequency of languages used per country:\n",
    "  - The size and color of each bubble represent how many developers in that country use the language.\n",
    "  - X-axis shows programming languages, y-axis shows countries.\n",
    "\n",
    "This plot provides an intuitive overview of programming language popularity and distribution across different countries.\n",
    "\n"
   ]
  },
  {
   "cell_type": "code",
   "execution_count": null,
   "id": "c2cd4795",
   "metadata": {},
   "outputs": [],
   "source": [
    "dfProgram = df[['LanguageHaveWorkedWith', 'Country']].dropna()  #Selects language and country columns, drops missing values.\n",
    "dfProgram['LanguageHaveWorkedWith'] = dfProgram['LanguageHaveWorkedWith'].str.split(';') #Splits languages into lists by semicolon.\n",
    "dfProgram = dfProgram.explode('LanguageHaveWorkedWith') #Expands list of languages into separate rows.\n",
    "\n",
    "filtro = dfProgram['LanguageHaveWorkedWith'].value_counts().sort_values(ascending=False).head(10).index #Gets top 10 most used languages.\n",
    "\n",
    "dfProgram_filter = dfProgram[dfProgram['LanguageHaveWorkedWith'].isin(filtro)] #Filters to keep only the top 10 languages\n",
    "filtro2 = dfProgram_filter['Country'].value_counts().sort_values(ascending=False).head(20).index  #Gets top 20 countries by count.\n",
    "dfProgram_filter = dfProgram_filter[dfProgram_filter['Country'].isin(filtro2)] #Filters to keep only the top 20 countries.\n",
    "\n",
    "grupo = dfProgram_filter.groupby(['Country', 'LanguageHaveWorkedWith']).size().reset_index(name='count') #Groups by country and language, counts occurrences\n",
    "grupo = grupo.replace(namereplace)  # Replace DataFrame names\n",
    "\n",
    "\n",
    "LangPorcentage = dfProgram.groupby(['Country', 'LanguageHaveWorkedWith']).size().reset_index(name='count')\n",
    "LangPorcentage = LangPorcentage[['LanguageHaveWorkedWith', 'count']].groupby('LanguageHaveWorkedWith').sum() \\\n",
    ".sort_values(['count'], ascending=False).reset_index()\n",
    "TotalP = LangPorcentage['count'].sum()\n",
    "Top1 = LangPorcentage.iloc[0,1]/TotalP * 100\n",
    "Top10_total = (LangPorcentage['count'].iloc[:10].sum() / TotalP) * 100\n",
    "print(f'\\033[1mThe top 1 language is {LangPorcentage.iloc[0, 0]} with {Top1:.1f}% \\\n",
    "and the sum of the top 10 most used languages is {Top10_total:.1f}%\\033[0m')\n",
    "print('')\n",
    "\n",
    "plt.figure(figsize=(15,10))  # Initialize new matplotlib figure\n",
    "plt.scatter(\n",
    "    grupo['LanguageHaveWorkedWith'],\n",
    "    grupo['Country'],\n",
    "    s=grupo['count'],\n",
    "    c=grupo['count'],\n",
    "    alpha = 0.5\n",
    ")\n",
    "plt.title('Bubble Plot for Languages Worked With Across Countries')  # Set plot title\n",
    "plt.xlabel('Languages') # Set x-axis label\n",
    "plt.ylabel('Country')  # Set y-axis label\n",
    "plt.xticks(rotation = 45)  # Rotate x-axis labels\n",
    "plt.tight_layout()  # Adjust layout spacing\n",
    "plt.colorbar(label='Frequence') #Adds a colorbar labeled 'Frequence'.\n",
    "plt.figtext(0.5, -0.05,'Figure 5. Bubble Plot for Languages Worked With Across Countries', # Adds centered caption below the plot\n",
    "            wrap=True, horizontalalignment='center', fontsize=10)\n",
    "plt.show()  # Display the plot"
   ]
  },
  {
   "cell_type": "markdown",
   "id": "159b92cb-0998-43c7-abb8-575fb62fd9f0",
   "metadata": {},
   "source": [
    "#### Conclusions: Languages Worked With Across Countries\n",
    "\n",
    "- **JavaScript** and **HTML/CSS** are the most widely used programming languages across nearly all countries, particularly dominant in the **USA**, **UK**, and **India**.\n",
    "- **Python** shows consistently high usage worldwide, with notable representation in countries like **USA**, **India**, and **Germany**, indicating its global versatility across roles and industries.\n",
    "- **SQL** also ranks among the most frequently used languages, highlighting the importance of data handling skills across regions.\n",
    "- **C**, **C++**, and **C#** have more moderate usage, with relatively higher representation in countries such as **Germany**, **France**, and **India**, suggesting stronger ties to traditional software development or embedded systems.\n",
    "- **TypeScript** shows strong adoption in **USA**, **UK**, and **India**, reflecting growing trends in modern frontend and full-stack development.\n",
    "- Smaller European countries (e.g., **Sweden**, **Switzerland**, **Austria**) show generally lower absolute usage across all languages, likely due to smaller sample sizes rather than lack of developer engagement.\n",
    "- The **USA** consistently reports the highest frequencies across nearly all languages, underscoring its large and diverse developer population.\n"
   ]
  },
  {
   "cell_type": "markdown",
   "id": "2472c937",
   "metadata": {},
   "source": [
    "### Analysis of Desired Programming Languages Across Countries\n",
    "\n",
    "- We extract respondents desired programming languages to work with (`LanguageWantToWorkWith`) along with their countries.\n",
    "- Missing values are dropped to ensure reliable data transformation and visualization:\n",
    "  - Null values would break text processing (e.g., splitting) and cause issues in the plot (e.g., blank axes labels).\n",
    "- Languages are split into individual entries.\n",
    "- The focus is on the top 10 most desired languages and the top 20 countries with the highest number of responses.\n",
    "- Data is grouped by country and desired language to count how many developers want to work with each language.\n",
    "\n",
    "This data preparation sets the stage for visualizing developer preferences for programming languages by country.\n"
   ]
  },
  {
   "cell_type": "code",
   "execution_count": null,
   "id": "bd23b119",
   "metadata": {},
   "outputs": [],
   "source": [
    "dfLW = df[['LanguageWantToWorkWith', 'Country']].dropna() #Selects desired language and country columns, drops missing values.\n",
    "dfLW['LanguageWantToWorkWith'] = dfLW['LanguageWantToWorkWith'].str.split(';') #Splits desired languages into lists by semicolon.\n",
    "dfLW = dfLW.explode('LanguageWantToWorkWith') #Expands desired languages into separate rows.\n",
    "\n",
    "filtroLanguages = dfLW['LanguageWantToWorkWith'].value_counts().sort_values(ascending=False).head(10).index #Gets top 10 desired languages.\n",
    "\n",
    "dfLW = dfLW[dfLW['LanguageWantToWorkWith'].isin(filtroLanguages)] #Filters to keep only the top 10 desired languages.\n",
    "dfLW = dfLW[dfLW['Country'].isin(filtro2)] #Filters to keep only the top 20 countries.\n",
    "\n",
    "group = dfLW.groupby(['Country', 'LanguageWantToWorkWith']).size().reset_index(name='count').replace(namereplace) #Groups by country and desired language, counts, and replaces names."
   ]
  },
  {
   "cell_type": "markdown",
   "id": "db75912b-7aa6-4612-a999-06b463ba60fd",
   "metadata": {},
   "source": [
    "#### Bubble Plot: Desired Programming Languages Across Countries\n",
    "\n",
    "This bubble plot visualizes the distribution of the top 10 programming languages developers want to work with, across the top 20 countries.\n",
    "\n",
    "- The size and color of each bubble represent the number of developers in a country interested in a particular language.\n",
    "- The x-axis shows the programming languages.\n",
    "- The y-axis shows the countries.\n",
    "- X-axis labels are rotated for better readability.\n",
    "- A colorbar indicates the frequency scale.\n",
    "\n",
    "This plot helps reveal trends and preferences in programming languages developers aspire to work with worldwide.\n"
   ]
  },
  {
   "cell_type": "code",
   "execution_count": null,
   "id": "2c47fb7c-6c56-4d91-a76f-29c351b24bf7",
   "metadata": {},
   "outputs": [],
   "source": [
    "plt.figure(figsize=(15,10))  # Initialize new matplotlib figure\n",
    "plt.scatter(\n",
    "    group['LanguageWantToWorkWith'],\n",
    "    group['Country'],\n",
    "    s=group['count'],\n",
    "    c=group['count'],\n",
    "    alpha = 0.5\n",
    ")\n",
    "plt.title('Bubble Plot for Databases Wanted Across Countries', fontsize=16)  # Set plot title\n",
    "plt.xlabel('Languages') #Set x-axis label\n",
    "plt.ylabel('Country')  # Set y-axis label\n",
    "plt.xticks(rotation = 45)  # Rotate x-axis labels\n",
    "plt.tight_layout()  # Adjust layout spacing\n",
    "plt.colorbar(label='Frequence')\n",
    "plt.figtext(0.5, -0.05,'Figure 6. Bubble Plot for Databases Wanted Across Countries', # Adds centered caption below the plot\n",
    "            wrap=True, horizontalalignment='center', fontsize=13)\n",
    "plt.show()  # Display the plot"
   ]
  },
  {
   "cell_type": "markdown",
   "id": "c55ba64a-fa61-4c0f-b679-4be4466867f8",
   "metadata": {},
   "source": [
    "#### Conclusions: Databases Wanted Across Countries\n",
    "\n",
    "- **JavaScript**, **Python**, and **SQL** are the most *wanted* technologies across nearly all countries, with the **USA**, **India**, and **UK** showing the highest interest.\n",
    "- **TypeScript** also appears in high demand, especially in English-speaking countries, suggesting strong momentum for modern frontend and full-stack development.\n",
    "- Demand for **HTML/CSS** remains consistently strong, likely due to its foundational role in web development.\n",
    "- Interest in lower-level languages like **C**, **C++**, and **C#** is notably lower across most regions, with relatively stronger demand in **Germany**, **France**, and **India**.\n",
    "- The **USA** continues to show the highest overall demand for nearly every language, reinforcing its large, diverse, and fast-evolving tech market.\n",
    "- Emerging markets like **India** and **Ukraine** demonstrate comparable demand patterns to developed countries, particularly in high-growth technologies such as **Python** and **JavaScript**.\n",
    "- Compared to actual usage (from the previous bubble chart), the *wanted* technologies reveal similar trends, suggesting that developers want to work with the same languages they already use — especially in popular ecosystems like JavaScript/TypeScript and Python.\n"
   ]
  },
  {
   "cell_type": "markdown",
   "id": "7b44eba4-65cc-46a8-a440-b60f86c3c0bf",
   "metadata": {},
   "source": [
    "### Relationship Between Work Experience and Annual Salary\n",
    "\n",
    "- We select work experience (`WorkExp`) and yearly compensation (`ConvertedCompYearly`), dropping missing values:\n",
    "  - Null values are removed to ensure valid numerical operations such as averaging and percentage calculations.\n",
    "  - Keeping them would interfere with statistical calculations and plot accuracy.\n",
    "- Outliers in salary are removed using previously calculated salary bounds (`lower` and `upper`).\n",
    "- The average annual salary is calculated for each year of experience.\n",
    "- The data is sorted by years of experience.\n",
    "- We compute and print the total percentage increase in salary from year 0 to year 5.\n",
    "- A scatter plot visualizes the relationship between years of experience and average annual salary.\n",
    "\n",
    "This analysis helps illustrate how salary tends to increase with work experience.\n",
    "\n"
   ]
  },
  {
   "cell_type": "code",
   "execution_count": null,
   "id": "5387e3c9-c11e-4e51-b184-79901f35e865",
   "metadata": {},
   "outputs": [],
   "source": [
    "dfExpSalarie = df[['WorkExp', 'ConvertedCompYearly']]\n",
    "dfExpSalarie = dfExpSalarie.dropna()\n",
    "dfExpSalarie_outliers = remove_outliers(dfExpSalarie, 'ConvertedCompYearly')  #Filters data within the salary bounds to remove outliers.\n",
    "groupExpSalarie = dfExpSalarie_outliers.groupby('WorkExp')['ConvertedCompYearly'].mean().reset_index()\n",
    "\n",
    "groupExpSalarie = groupExpSalarie.sort_values('WorkExp')\n",
    "\n",
    "initial_salary = groupExpSalarie.loc[groupExpSalarie['WorkExp'] == 0, 'ConvertedCompYearly'].values[0]\n",
    "salary_year_5 = groupExpSalarie.loc[groupExpSalarie['WorkExp'] == 5, 'ConvertedCompYearly'].values[0]\n",
    "\n",
    "total_pct_increase = ((salary_year_5 - initial_salary) / initial_salary) * 100\n",
    "\n",
    "print(f\"Total salary increase from year 1 to year 5: {total_pct_increase:.2f}%\")\n",
    "\n",
    "sns.scatterplot(data=groupExpSalarie, x='WorkExp', y='ConvertedCompYearly')\n",
    "plt.title('Work Experience vs Annual Salary')\n",
    "plt.xlabel('Years of Experience')\n",
    "plt.ylabel('Annual Salary (USD)')\n",
    "plt.figtext(0.5, -0.05,'Figure 7. Work Experience vs Annual Salary', # Adds centered caption below the plot\n",
    "            wrap=True, horizontalalignment='center', fontsize=9)\n",
    "plt.show()"
   ]
  },
  {
   "cell_type": "markdown",
   "id": "1973b0ba-4e2f-4433-9d09-8f4e4a3f8619",
   "metadata": {},
   "source": [
    "#### Conclusions: Work Experience vs Annual Salary\n",
    "\n",
    "- **Annual salary increases sharply during the first 5–10 years** of work experience, with compensation nearly doubling compared to entry-level salaries.\n",
    "- After around **10–15 years of experience**, salary growth begins to **slow down**, indicating a plateau effect in mid to late career stages.\n",
    "- **Maximum average salaries** appear between **30 and 40 years of experience**, reaching over **$120,000 USD**.\n",
    "- Beyond **40 years**, salaries tend to **stabilize or slightly decline**, possibly due to role changes (e.g., moving into advisory, part-time, or lower-pressure positions).\n",
    "- The chart clearly supports the idea that **early career growth is the most financially impactful period**, while gains in later years are less pronounced.\n",
    "- This insight can be useful for career planning, salary negotiations, and understanding long-term earning trajectories.\n"
   ]
  },
  {
   "cell_type": "markdown",
   "id": "916616c4",
   "metadata": {},
   "source": [
    "### Analysis of Desired Web Frameworks\n",
    "\n",
    "- We extract the `WebframeWantToWorkWith` column, which lists the web frameworks developers want to work with.\n",
    "- Missing values are dropped to ensure proper data processing and accurate results:\n",
    "  - Null values would cause errors during string splitting and row expansion, and would distort framework counts.\n",
    "- Frameworks are split into individual entries.\n",
    "- The data is exploded so each framework appears in its own row.\n",
    "- We count the occurrences of each framework and identify the top 10 most desired ones.\n",
    "- The counts of all other frameworks beyond the top 10 are summed into an \"Others\" category.\n",
    "- Labels and sizes for a potential pie or bar chart are prepared, including the \"Others\" category.\n",
    "\n",
    "This preparation helps visualize the popularity of web frameworks among developers."
   ]
  },
  {
   "cell_type": "code",
   "execution_count": null,
   "id": "3038eeb9",
   "metadata": {},
   "outputs": [],
   "source": [
    "dfWeb_Frame = df['WebframeWantToWorkWith'].dropna().str.split(';') #Splits desired web frameworks into lists, drops missing values.\n",
    "dfWeb_Frame = dfWeb_Frame.explode() #Expands desired web frameworks into separate rows.\n",
    "\n",
    "top = dfWeb_Frame.value_counts() #Counts occurrences of each web framework.\n",
    "top5 = top.head(10) #Selects the top 10 most wanted web frameworks.\n",
    "others = top[10:].sum() #Sums counts of web frameworks outside the top 10.\n",
    "\n",
    "labels = top5.index.tolist() + ['Others'] #Creates labels list with top 10 and 'Others'.\n",
    "sizes = top5.values.tolist() + [others] #Creates sizes list with top 10 counts plus 'Others' sum."
   ]
  },
  {
   "cell_type": "markdown",
   "id": "48adf2a4-9601-4930-9257-e5d828fe66f0",
   "metadata": {},
   "source": [
    "#### Pie Chart: Preferred Web Frameworks (Top 10 + Others)\n",
    "\n",
    "- This pie chart visualizes the distribution of the top 10 most desired web frameworks among developers.\n",
    "- The \"Others\" category aggregates all less popular frameworks.\n",
    "- Percentages are displayed inside each slice for clarity.\n",
    "- The chart uses the 'Solarize_Light2' style with black edges on each wedge for better contrast.\n",
    "- A legend lists all categories in the upper right corner.\n",
    "- The aspect ratio is set to equal to ensure the pie is circular.\n",
    "\n",
    "This chart provides a clear overview of web framework preferences in the developer community.\n"
   ]
  },
  {
   "cell_type": "code",
   "execution_count": null,
   "id": "9b58d778-7d0e-4540-942a-182f133a27b0",
   "metadata": {},
   "outputs": [],
   "source": [
    "plt.figure(figsize=(10, 6))  # Initialize new matplotlib figure\n",
    "patches, texts, autotexts = plt.pie(\n",
    "    sizes,\n",
    "    labels=labels,\n",
    "    autopct='%1.1f%%',\n",
    "    startangle=140,\n",
    "    wedgeprops={'edgecolor': 'black'}\n",
    ")\n",
    "\n",
    "for text in texts:\n",
    "    text.set_fontsize(11)\n",
    "for autotext in autotexts:\n",
    "    autotext.set_fontsize(11)\n",
    "    autotext.set_color('white')\n",
    "\n",
    "plt.title('Pie Chart of Preferred Web Frameworks (Top 5 + Others)', fontsize=14)  # Set plot title\n",
    "plt.axis('equal')  #Sets plot aspect ratio to be equal\n",
    "plt.tight_layout()  # Adjust layout spacing\n",
    "plt.legend(labels, loc='upper right') #Adds a legend with labels in the upper right corner.\n",
    "plt.style.use('Solarize_Light2') #Applies the 'Solarize_Light2' plot style.\n",
    "plt.figtext(0.5, -0.05,'Figure 8. Pie Chart of Preferred Web Frameworks', # Adds centered caption below the plot\n",
    "            wrap=True, horizontalalignment='center', fontsize=10)\n",
    "plt.show()  # Display the plot"
   ]
  },
  {
   "cell_type": "markdown",
   "id": "f772fa8a-6a5e-4966-991e-4b7037c6095e",
   "metadata": {},
   "source": [
    "#### Conclusions: Preferred Web Frameworks\n",
    "\n",
    "- **React** is the most preferred web framework, accounting for **11.6%** of respondents' preferences among the top listed frameworks.\n",
    "- **Node.js** follows closely with **11.1%**, showing strong popularity for backend JavaScript development.\n",
    "- **Next.js** and **Vue.js** maintain solid positions with **6.4%** and **5.7%** respectively, indicating rising interest in modern, flexible frontend frameworks.\n",
    "- **ASP.NET Core** (5.2%) and **Angular** (4.8%) continue to hold relevance, especially among enterprise developers.\n",
    "- Newer or niche frameworks such as **Svelte** (4.0%), **Spring Boot** (3.8%), and **Django** (3.7%) also show steady adoption, suggesting diversified ecosystem preferences.\n",
    "- The **\"Others\"** category, comprising **39.6%**, indicates a broad variety of frameworks in use beyond the top 10, reflecting fragmentation and specialization in web development technologies.\n",
    "- Overall, JavaScript-based frameworks dominate the top spots, emphasizing its central role in modern web development across both frontend and backend.\n"
   ]
  },
  {
   "cell_type": "markdown",
   "id": "174c2c9f",
   "metadata": {},
   "source": [
    "### Filtering Salary Data and Checking Unique Ages\n",
    "\n",
    "- We filter the dataset to include only respondents with yearly compensation (`ConvertedCompYearly`) within the previously calculated salary bounds to remove outliers.\n",
    "- After filtering, we retrieve the unique ages present in this cleaned dataset.\n",
    "\n",
    "This step ensures subsequent analyses consider only valid salary data and identifies the range of respondent ages available for further study.\n"
   ]
  },
  {
   "cell_type": "code",
   "execution_count": null,
   "id": "960dd7d8",
   "metadata": {},
   "outputs": [],
   "source": [
    "dfAC = remove_outliers(df, 'ConvertedCompYearly')  #Filters data within the salary bounds to remove outliers.\n",
    "\n",
    "dfAC['Age'].unique() #Gets unique ages in the filtered data."
   ]
  },
  {
   "cell_type": "markdown",
   "id": "d5f6a494",
   "metadata": {},
   "source": [
    "#### Cleaning and Transforming Age Data for Salary Analysis\n",
    "\n",
    "- Remove respondents who chose \"Prefer not to say\" or are under 18 years old.\n",
    "- Clean the `Age` column by removing text such as \"years old\" or \"years or older\".\n",
    "- Split age ranges (e.g., \"25-29\") into lists and calculate the average age for each range.\n",
    "- Drop rows with missing values in `Age` or `ConvertedCompYearly` to ensure accurate calculations:\n",
    "  - Null values in these columns would lead to incorrect mean salary calculations and potentially cause missing or misleading points in the visualization.\n",
    "- Group the cleaned data by average age and calculate the mean yearly compensation for each age group.\n",
    "\n",
    "This transformation allows a more precise analysis of salary trends across continuous age values rather than categorical ranges.\n"
   ]
  },
  {
   "cell_type": "code",
   "execution_count": null,
   "id": "2d786f17",
   "metadata": {},
   "outputs": [],
   "source": [
    "dfAC = dfAC[~dfAC['Age'].isin(['Prefer not to say', 'Under 18 years old'])].copy() #Removes entries with 'Prefer not to say' or 'Under 18 years old' ages.\n",
    "dfAC['Age'] = dfAC['Age'].str.replace(r' years old| years or older', '', regex=True) #Removes text like 'years old' from the Age values.\n",
    "dfAC['Age'] = dfAC['Age'].str.split('-') #Splits Age values into lists by hyphen.\n",
    "dfAC['Age'] = dfAC['Age'].apply(lambda x: sum([float(i) for i in x]) / len(x) if isinstance(x, list) else np.nan) #Calculates average age from age ranges.\n",
    "\n",
    "dfAC = dfAC.dropna(subset=['Age', 'ConvertedCompYearly'])\n",
    "group2 = dfAC.groupby('Age')['ConvertedCompYearly'].mean().reset_index() #Calculates average salary by age group."
   ]
  },
  {
   "cell_type": "markdown",
   "id": "e3cf33a9",
   "metadata": {},
   "source": [
    "#### Line Plot: Relationship Between Age and Annual Compensation\n",
    "\n",
    "- This line plot shows the average yearly compensation (`ConvertedCompYearly`) across different ages.\n",
    "- Markers highlight individual data points for each age.\n",
    "- The plot includes descriptive axis labels and a clear title.\n",
    "- Layout settings enhance readability with adjusted size and font sizes.\n",
    "\n",
    "This visualization helps observe trends and patterns in how salary varies with age.\n"
   ]
  },
  {
   "cell_type": "code",
   "execution_count": null,
   "id": "462a1a21",
   "metadata": {},
   "outputs": [],
   "source": [
    "fig = px.line(group2,        #Creates a line plot of average salary by age with markers and labels.\n",
    "              x='Age',\n",
    "              y='ConvertedCompYearly',\n",
    "              markers=True,\n",
    "              title='Relationship Between Age and Converted Yearly Compensation',\n",
    "              labels={\n",
    "                  'Age': 'Age',\n",
    "                  'ConvertedCompYearly': 'Converted Compensation (Yearly)'\n",
    "              })\n",
    "\n",
    "fig.update_layout(       #Updates plot layout with size and font settings.\n",
    "    width = 900,\n",
    "    height = 400,\n",
    "    title_font_size=18,\n",
    "    xaxis_title_font_size=14,\n",
    "    yaxis_title_font_size=14,\n",
    "    margin=dict(t=80, b=80)\n",
    "\n",
    ")\n",
    "\n",
    "fig.add_annotation(\n",
    "    text=\"Figure 9. Relationship Between Age and Converted Yearly Compensation\", # Adds centered caption below the plot\n",
    "    xref=\"paper\", yref=\"paper\",\n",
    "    x=0.5, y=-.43,\n",
    "    font=dict(size=12),\n",
    "    align=\"center\"\n",
    ")\n",
    "fig.show()"
   ]
  },
  {
   "cell_type": "markdown",
   "id": "c28f8df8-f5ee-493e-9207-ec5035f39af5",
   "metadata": {},
   "source": [
    "#### Conclusions: Age vs Annual Compensation\n",
    "\n",
    "- **Annual compensation increases steadily with age**, particularly from **20 to 50 years old**, suggesting consistent salary growth throughout early and mid-career stages.\n",
    "- The most **significant salary jump** appears between the **20–30 age range**, indicating rapid early-career progression.\n",
    "- Salaries appear to **peak around age 60**, reaching just above **$110,000 USD** on average.\n",
    "- After **age 60**, there is a **slight decline** in compensation, possibly due to transitions into part-time roles, retirement plans, or advisory positions.\n",
    "- Overall, age shows a **positive correlation with earnings** up to a point, reinforcing the value of experience but also hinting at a plateau in later years.\n",
    "- These trends align closely with the patterns observed in the **Work Experience vs Salary** plot, emphasizing long-term career growth followed by stabilization.\n"
   ]
  },
  {
   "cell_type": "markdown",
   "id": "4b5b536a",
   "metadata": {},
   "source": [
    "### Average Salary by Education Level\n",
    "\n",
    "- Filter the dataset to include only salaries within the predefined bounds to remove outliers.\n",
    "- Drop rows with missing values in `EdLevel` or `ConvertedCompYearly` to ensure accurate average salary calculations and avoid errors in grouping and plotting.\n",
    "- Calculate the average yearly compensation (`ConvertedCompYearly`) for each education level (`EdLevel`).\n",
    "- Replace long or complex education level names with simplified labels for better readability in plots.\n",
    "\n",
    "This preparation facilitates a clear comparison of how education level correlates with average salary.\n",
    "\n"
   ]
  },
  {
   "cell_type": "code",
   "execution_count": null,
   "id": "7cb719f1",
   "metadata": {},
   "outputs": [],
   "source": [
    "dfEd = remove_outliers(df, 'ConvertedCompYearly')  #Filters data within the salary bounds to remove outliers.\n",
    "dfEd = dfEd.dropna(subset=['EdLevel', 'ConvertedCompYearly'])\n",
    "group3 = dfEd.groupby('EdLevel')['ConvertedCompYearly'].mean().reset_index() #Calculates average salary by education level.\n",
    "\n",
    "Edlvlnames = {\n",
    "    'Associate degree (A.A., A.S., etc.)': 'Associate degree',\n",
    "    'Bachelor’s degree (B.A., B.S., B.Eng., etc.)': 'Bachelor’s degree',\n",
    "    'Master’s degree (M.A., M.S., M.Eng., MBA, etc.)': 'Master’s degree',\n",
    "    'Some college/university study without earning a degree': 'Some college, no degree',\n",
    "    'Secondary school (e.g. American high school, German Realschule or Gymnasium, etc.)':'Secondary school',\n",
    "    'Professional degree (JD, MD, Ph.D, Ed.D, etc.)':'Professional degree'\n",
    "\n",
    "}\n",
    "group3 = group3.replace(Edlvlnames)  # Replace DataFrame values"
   ]
  },
  {
   "cell_type": "markdown",
   "id": "e465538b",
   "metadata": {},
   "source": [
    "#### Line Plot: Education Level vs Annual Compensation\n",
    "\n",
    "- This line plot visualizes the average yearly compensation by education level with markers for each data point.\n",
    "- Axis labels and a descriptive title improve clarity.\n",
    "- The x-axis labels are rotated for better readability due to long category names.\n",
    "- The percentage difference in salary between holders of a professional degree and those with only secondary education is calculated and printed.\n",
    "- The plot layout is adjusted for size and font for better presentation.\n",
    "\n",
    "This analysis highlights the impact of education level on annual compensation, showing significant salary differences across education tiers.\n"
   ]
  },
  {
   "cell_type": "code",
   "execution_count": null,
   "id": "70e8c4af",
   "metadata": {},
   "outputs": [],
   "source": [
    "fig = px.line(group3,       #Creates a line plot of average salary by education level with markers and labels.\n",
    "              x='EdLevel',\n",
    "              y='ConvertedCompYearly',\n",
    "              markers=True,\n",
    "              title='Relationship Between Education Level and Converted Yearly Compensation',\n",
    "              labels={\n",
    "                  'EdLevel': 'Education Level',\n",
    "                  'ConvertedCompYearly': 'Converted Compensation (Yearly)'\n",
    "              })\n",
    "\n",
    "high = group3[group3['EdLevel'] == 'Professional degree']['ConvertedCompYearly'].values[0]\n",
    "low = group3[group3['EdLevel'] == 'Secondary school']['ConvertedCompYearly'].values[0]\n",
    "\n",
    "# Calcular el porcentaje\n",
    "diff_percent = ((high - low) / low) * 100\n",
    "\n",
    "print(f\"Professional degree holders earn {diff_percent:.1f}% more than those with only secondary education.\")\n",
    "\n",
    "\n",
    "fig.update_layout(   #Updates plot layout with size, fonts, and rotated x-axis labels.\n",
    "    width=1300,\n",
    "    height=500,\n",
    "    title_font_size=18,\n",
    "    xaxis_title_font_size=14,\n",
    "    yaxis_title_font_size=14,\n",
    "    xaxis_tickangle=270,\n",
    "    margin=dict(t=80, b=210)\n",
    ")\n",
    "fig.add_annotation( # Adds centered caption below the plot\n",
    "    text=\"Figure 10. Relationship Between Education Level and Converted Yearly Compensation\",\n",
    "    xref=\"paper\", yref=\"paper\",\n",
    "    x=0.5, y=-1.1,\n",
    "    font=dict(size=12),\n",
    "    align=\"center\"\n",
    ")\n",
    "fig.show()"
   ]
  },
  {
   "cell_type": "markdown",
   "id": "044e059d-6a09-42e5-9e3c-5b79cd63dcb4",
   "metadata": {},
   "source": [
    "#### Conclusions: Education Level vs Annual Compensation\n",
    "\n",
    "- **Professional degree holders** report the **highest average annual salary**, surpassing **\\$80,000 USD**, indicating a strong return on advanced credentials in specific fields.\n",
    "- **Bachelor's and Master's degree holders** earn similarly, both averaging around **\\$73,000 USD**, showing that a Master’s degree may not drastically increase salary in all cases.\n",
    "- Individuals with only **primary or secondary education** report significantly **lower salaries** (around **\\$52,000** – **\\$54,000 USD**), highlighting the economic value of higher education.\n",
    "- Those with **some college but no degree** earn about **\\$67,000 USD**, suggesting partial post-secondary education still has a positive impact on earnings.\n",
    "- Interestingly, **Associate degree** holders earn nearly as much as Bachelor’s graduates, with average compensation near **\\$68,000 USD**.\n",
    "- The **“Something else”** category has one of the lowest reported salaries (~**\\$58,000 USD**), possibly due to unconventional or unrecognized education pathways.\n",
    "\n",
    "- Overall, while **formal education generally correlates with higher compensation**, there are exceptions that may reflect job market realities, specific professional credentials, or industry variation.\n"
   ]
  },
  {
   "cell_type": "markdown",
   "id": "eeaa5883",
   "metadata": {},
   "source": [
    "### Preparing Data: Years of Coding Experience, Salary, and Job Satisfaction\n",
    "\n",
    "- Select relevant columns: `YearsCode`, `ConvertedCompYearly`, and `JobSat`.\n",
    "- Filter rows to include only salaries within the predefined bounds and drop rows with missing values in any of these columns. This ensures that subsequent data transformations (like extracting numeric values) and visualizations are accurate and not affected by incomplete or missing data, which could cause errors or bias.\n",
    "- Extract numeric values from the `YearsCode` column, which may contain text, to get the number of years of coding experience.\n",
    "- Retrieve unique values in the `YearsCode` column to understand the range of coding experience reported.\n",
    "\n",
    "This step prepares the dataset for analyzing relationships between coding experience, salary, and job satisfaction.\n",
    "\n"
   ]
  },
  {
   "cell_type": "code",
   "execution_count": null,
   "id": "331e95c9",
   "metadata": {},
   "outputs": [],
   "source": [
    "dfC = df[['YearsCode', 'ConvertedCompYearly', 'JobSat']] #Selects years coding, salary, and job satisfaction columns.\n",
    "dfC = remove_outliers(dfC, 'ConvertedCompYearly')  #Filters data within the salary bounds to remove outliers.\n",
    "dfC = dfC.dropna(subset=['YearsCode', 'ConvertedCompYearly', 'JobSat'])\n",
    "print(dfC['YearsCode'].unique()) #Gets unique values in the YearsCode column.\n",
    "dfC['YearsCode'] = dfC['YearsCode'].str.extract(r'(\\d+)') #Extracts the number of years coded from the text."
   ]
  },
  {
   "cell_type": "markdown",
   "id": "4e21b1d4",
   "metadata": {},
   "source": [
    "#### Normalizing Data Using Min-Max Scaling\n",
    "\n",
    "- Initialize a `MinMaxScaler` to normalize data features to a range between 0 and 1.\n",
    "- Apply the scaler to the dataframe containing years of coding experience, salary, and job satisfaction.\n",
    "- Create a new dataframe with the scaled values, preserving original column names.\n",
    "\n",
    "Normalization facilitates comparison and modeling by bringing all variables to the same scale.\n"
   ]
  },
  {
   "cell_type": "code",
   "execution_count": null,
   "id": "a7b7015f",
   "metadata": {},
   "outputs": [],
   "source": [
    "scaler = MinMaxScaler() #Initializes a MinMaxScaler for normalization.\n",
    "dfC_scaled = pd.DataFrame(scaler.fit_transform(dfC), columns=dfC.columns) #Scales all dataframe columns to a 0-1 range."
   ]
  },
  {
   "cell_type": "markdown",
   "id": "25b150f8",
   "metadata": {},
   "source": [
    "#### Scatter Plot: Years of Coding vs. Salary Colored by Job Satisfaction (Normalized)\n",
    "\n",
    "- Group the normalized data by years of coding experience and calculate mean values.\n",
    "- Create a scatter plot comparing normalized yearly compensation against normalized years of coding.\n",
    "- Color each point based on normalized job satisfaction levels, using the 'viridis' colormap.\n",
    "- Axis labels and title describe the variables and purpose.\n",
    "- A colorbar shows the gradient for job satisfaction values.\n",
    "\n",
    "This visualization reveals potential relationships between coding experience, salary, and job satisfaction on a normalized scale.\n"
   ]
  },
  {
   "cell_type": "code",
   "execution_count": null,
   "id": "6863db15",
   "metadata": {},
   "outputs": [],
   "source": [
    "dfC_grouped = dfC_scaled.groupby('YearsCode').mean().reset_index() #Calculates average scaled values grouped by years coding.\n",
    "\n",
    "plt.figure(figsize=(10, 6))  # Initialize new matplotlib figure\n",
    "plt.scatter(dfC_grouped['YearsCode'], dfC_grouped['ConvertedCompYearly'], c=dfC_grouped['JobSat'], cmap='viridis', s=100) #Creates a scatter plot of salary vs. years coded, colored by job satisfaction.\n",
    "\n",
    "plt.xlabel('Years of Coding (Normalized)') # Set x-axis label\n",
    "plt.ylabel('Yearly Compensation (Normalized)') # Set y-axis label\n",
    "plt.title('Comparison of Years of Coding, Compensation, and Job Satisfaction (Normalized)')  # Set plot title\n",
    "\n",
    "plt.colorbar(label='Job Satisfaction (Normalized)') #Adds a colorbar.\n",
    "plt.figtext(0.5, -0.05,'Figure 11. Comparison of Years of Coding, Compensation, and Job Satisfaction', # Adds centered caption below the plot\n",
    "            wrap=True, horizontalalignment='center', fontsize=10)\n",
    "plt.show()  # Display the plot"
   ]
  },
  {
   "cell_type": "markdown",
   "id": "771fd2bc-2ecb-4101-bcec-6aea1ffa9999",
   "metadata": {},
   "source": [
    "#### Conclusions: Coding Experience vs Compensation & Job Satisfaction (Normalized)\n",
    "\n",
    "- A clear **positive correlation** exists between **years of coding** and **annual compensation**: more experienced coders tend to earn higher salaries.\n",
    "- **Job satisfaction** also increases moderately with coding experience and compensation, though with some variation.\n",
    "- The highest job satisfaction (in yellow-green tones) appears toward the upper right, among those with **high compensation and significant experience**.\n",
    "- Despite normalization, a few outliers show **lower job satisfaction** even at high compensation levels, hinting at non-monetary factors influencing satisfaction.\n",
    "- The curve flattens slightly after the midpoint, suggesting **diminishing returns** in compensation with increased experience beyond a certain point.\n",
    "\n",
    "- Normalization allowed for better comparative analysis, though specific numeric values are abstracted.\n"
   ]
  },
  {
   "cell_type": "markdown",
   "id": "f5fed1d7-7351-4542-9e75-b9de293b2b1a",
   "metadata": {
    "jp-MarkdownHeadingCollapsed": true
   },
   "source": [
    "## FINAL CONCLUSIONS\n",
    "\n",
    "- **Work experience** has a strong positive correlation with salary, especially in the first **5–10 years**, where annual compensation increases sharply. Salary growth slows after 15+ years.\n",
    "- **Age** shows a similar pattern: compensation rises steadily with age until around 60, then begins to decline slightly, indicating that career growth tends to level off in the later stages.\"\n",
    "- **Education level** impacts earnings significantly, those with **professional, bachelor’s, or master’s degrees** earn the highest salaries, while primary/secondary education yields the lowest.\n",
    "- **Remote workers** earn the most on average (**\\$78,700 USD**), followed by hybrid workers, while **in-person workers earn 33% less**, highlighting the market value of work flexibility.\n",
    "- The relationship between **years of coding, compensation, and job satisfaction (normalized)** confirms a trend: more experience leads to higher pay and generally higher satisfaction.\n",
    "- **React** is the most preferred web framework among developers, followed by **Node.js**, **Next.js**, and **Vue.js**, with JavaScript frameworks dominating modern web development.\n",
    "- **JavaScript**, **HTML/CSS**, and **Python** are the most used and most wanted programming languages globally, particularly in countries like the **USA**, **India**, and the **UK**.\n",
    "- **USA** has the highest number of developers, followed by **India**, **Germany**, and the **UK**. Representation drops off in regions like Africa, South America, and parts of Asia.\n",
    "- Median **compensation by country** reflects economic differences, **USA** leads, followed by **Canada** and the **UK**, while **India** and **Brazil** have lower medians but many outliers.\n",
    "- **Database usage** by age group shows that **PostgreSQL** and **MySQL** are dominant across all groups, especially ages **18–34**. Usage declines with age but remains consistent in younger respondents.\n",
    "- In **top programming languages wanted by country**, trends largely mirror actual usage: developers tend to want to work with the technologies they already use, with **Python**, **TypeScript**, and **JavaScript** leading interest.\n",
    "\n",
    "> These findings provide a holistic view of how experience, age, education, work modality, and regional context influence compensation, preferences, and satisfaction in the software development industry.\n"
   ]
  }
 ],
 "metadata": {
  "kernelspec": {
   "display_name": "Python 3 (ipykernel)",
   "language": "python",
   "name": "python3"
  },
  "language_info": {
   "codemirror_mode": {
    "name": "ipython",
    "version": 3
   },
   "file_extension": ".py",
   "mimetype": "text/x-python",
   "name": "python",
   "nbconvert_exporter": "python",
   "pygments_lexer": "ipython3",
   "version": "3.12.3"
  }
 },
 "nbformat": 4,
 "nbformat_minor": 5
}
